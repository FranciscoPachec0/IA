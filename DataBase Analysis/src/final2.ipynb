{
 "cells": [
  {
   "cell_type": "code",
   "execution_count": 5,
   "id": "e3f0e826",
   "metadata": {},
   "outputs": [
    {
     "name": "stdout",
     "output_type": "stream",
     "text": [
      "Percentagem de Acertos Gauss =  82.15116279069767\n",
      "[[1328  113]\n",
      " [ 194   85]]\n",
      "Percentagem de Acertos ID3 =  76.9767441860465\n",
      "[[1224  217]\n",
      " [ 179  100]]\n"
     ]
    }
   ],
   "source": [
    "import pandas\n",
    "from sklearn.model_selection import train_test_split\n",
    "from sklearn.naive_bayes import GaussianNB\n",
    "from sklearn.metrics import accuracy_score\n",
    "from sklearn.metrics import confusion_matrix\n",
    "from sklearn.tree import DecisionTreeClassifier\n",
    "\n",
    "tabela = pandas.read_csv('C:/Users/franc/Desktop/IA/projeto2/speedDating_trab.csv')\n",
    "tabela = tabela.dropna(how='any', axis=0)\n",
    "#print(tabela.head(20))\n",
    "X = tabela.copy()\n",
    "del X ['match']\n",
    "del X ['id']\n",
    "del X ['partner']\n",
    "y = tabela[['match']].copy()\n",
    "X_train, X_test, y_train, y_test = train_test_split(X, y, train_size = 0.75, test_size = 0.25, random_state = 90)\n",
    "#ver esta funcao de teste acima\n",
    "y_pred = GaussianNB().fit(X_train, y_train.values.ravel()).predict(X_test)\n",
    "#print(X.head(20))\n",
    "print(\"Percentagem de Acertos Gauss = \", accuracy_score(y_test,y_pred)*100)\n",
    "#print(accuracy_score(y_test,y_pred)*100)\n",
    "print(confusion_matrix(y_test,y_pred))\n",
    "decisao = DecisionTreeClassifier()\n",
    "decisao.fit(X_train,y_train)\n",
    "y_pred = decisao.predict(X_test)\n",
    "print(\"Percentagem de Acertos ID3 = \", accuracy_score(y_test,y_pred)*100)\n",
    "#print(accuracy_score(y_test,y_pred)*100)\n",
    "print(confusion_matrix(y_test,y_pred)) "
   ]
  },
  {
   "cell_type": "code",
   "execution_count": null,
   "id": "5f1792e8",
   "metadata": {},
   "outputs": [],
   "source": []
  },
  {
   "cell_type": "code",
   "execution_count": null,
   "id": "4011f883",
   "metadata": {},
   "outputs": [],
   "source": []
  }
 ],
 "metadata": {
  "kernelspec": {
   "display_name": "Python 3",
   "language": "python",
   "name": "python3"
  },
  "language_info": {
   "codemirror_mode": {
    "name": "ipython",
    "version": 3
   },
   "file_extension": ".py",
   "mimetype": "text/x-python",
   "name": "python",
   "nbconvert_exporter": "python",
   "pygments_lexer": "ipython3",
   "version": "3.8.8"
  }
 },
 "nbformat": 4,
 "nbformat_minor": 5
}
